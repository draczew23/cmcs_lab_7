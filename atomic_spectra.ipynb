{
 "cells": [
  {
   "cell_type": "markdown",
   "metadata": {},
   "source": [
    "# Task 1"
   ]
  },
  {
   "cell_type": "code",
   "execution_count": 1,
   "metadata": {},
   "outputs": [],
   "source": [
    "import numpy as np\n",
    "import matplotlib\n",
    "import matplotlib.pyplot as plt\n",
    "from matplotlib import cm\n",
    "import scipy.constants as const\n",
    "from matplotlib.pyplot import figure\n",
    "# matplotlib.rcParams['text.usetex'] = True\n",
    "\n",
    "# plt.rcParams.update({\n",
    "#     \"text.usetex\": True,\n",
    "#     \"font.family\": \"serif\",\n",
    "#     \"font.serif\": [\"Computer Modern Roman\"],\n",
    "# })"
   ]
  },
  {
   "cell_type": "code",
   "execution_count": 3,
   "metadata": {},
   "outputs": [
    {
     "data": {
      "text/plain": [
       "array([[0., 0., 0., 0.],\n",
       "       [0., 0., 0., 0.],\n",
       "       [0., 0., 0., 0.],\n",
       "       [0., 0., 0., 0.]])"
      ]
     },
     "execution_count": 3,
     "metadata": {},
     "output_type": "execute_result"
    }
   ],
   "source": [
    "# initial parameters\n",
    "\n",
    "h_dash = 1\n",
    "m_e = h_dash\n",
    "e = h_dash\n",
    "pi = np.pi\n",
    "m_p = 1836.15 * m_e \n",
    "\n",
    "A_Li = 152.1    #in MHz\n",
    "A_Rb = 1011.9\n",
    "\n",
    "S_Li = 0.5\n",
    "S_Rb = S_Li\n",
    "\n",
    "I_Li = 1\n",
    "I_Rb = 5 / 2\n",
    "\n",
    "mu_B = (e * h_dash) / (2 * m_e)    # Bohr magneton in atomic units\n",
    "mu_N = (e * h_dash) / (2 * m_p)    # Nuclear magneton in atomic units\n",
    "\n",
    "g_e = 2.002319\n",
    "g_N_Li = -0.000447\n",
    "g_N_Rb = -0.000294\n",
    "\n",
    "B_min = 1\n",
    "B_max = 2000    # Magnetic field gauss units\n",
    "samples = 1000\n",
    "n = 4\n",
    "\n",
    "B = np.linspace(B_min, B_max, samples)  \n",
    "# B\n",
    "\n",
    "H_matrix = np.zeros((n, n))\n",
    "\n",
    "# Probably I have to populate H_matrix using formula on slide 18, maybe it would work\n",
    "# Simply make one big function to do this\n",
    "# I have to convert gauss --> SI --> atomic units\n"
   ]
  }
 ],
 "metadata": {
  "interpreter": {
   "hash": "bc0ab7a0a7955a602fe482a24b42dcde327bf84a93fc5be766be7539488a2b62"
  },
  "kernelspec": {
   "display_name": "Python 3.9.6 64-bit ('spyder': conda)",
   "language": "python",
   "name": "python3"
  },
  "language_info": {
   "codemirror_mode": {
    "name": "ipython",
    "version": 3
   },
   "file_extension": ".py",
   "mimetype": "text/x-python",
   "name": "python",
   "nbconvert_exporter": "python",
   "pygments_lexer": "ipython3",
   "version": "3.8.8"
  },
  "orig_nbformat": 4
 },
 "nbformat": 4,
 "nbformat_minor": 2
}
